{
 "cells": [
  {
   "cell_type": "code",
   "execution_count": 27,
   "id": "5cca646b-ef51-42ab-a296-6484728e1605",
   "metadata": {},
   "outputs": [
    {
     "name": "stdout",
     "output_type": "stream",
     "text": [
      "First element is 2\n",
      "Exception raised\n"
     ]
    }
   ],
   "source": [
    "a=[1,2,3]\n",
    "try:\n",
    "    print(\"First element is %d\"%(a[1]))\n",
    "    print(\"Fourth element is %d\"%(a[3]))\n",
    "\n",
    "except:\n",
    "    print(\"Exception raised\")\n",
    "    "
   ]
  },
  {
   "cell_type": "code",
   "execution_count": 56,
   "id": "8e757026-6846-499a-b798-6939e9aaf367",
   "metadata": {},
   "outputs": [
    {
     "name": "stdout",
     "output_type": "stream",
     "text": [
      "NameError occured\n",
      "ZeroDivisionError occured\n"
     ]
    }
   ],
   "source": [
    "def fun(a):\n",
    "    try:\n",
    "         if a<4:\n",
    "             b=a/(a-3)\n",
    "         print(\"Value of b=\", b)\n",
    "    except NameError:\n",
    "        print(\"NameError occured\")\n",
    "    except ZeroDivisionError:\n",
    "        print(\"ZeroDivisionError occured\")\n",
    "\n",
    "fun(5)\n",
    "fun(3)"
   ]
  },
  {
   "cell_type": "code",
   "execution_count": 67,
   "id": "6519122a-119f-40c1-ba7b-f59370db4571",
   "metadata": {},
   "outputs": [
    {
     "name": "stdout",
     "output_type": "stream",
     "text": [
      "NameError occured\n",
      "ZeroDivisionError occured\n",
      "NameError occured\n"
     ]
    }
   ],
   "source": [
    "def fun(a):\n",
    "    if a<4:\n",
    "        b=a/(a-3)\n",
    "    print(\"Value of b=\", b)\n",
    "    \n",
    "def func(x):\n",
    "    try:\n",
    "        fun(x)\n",
    "    except NameError:\n",
    "        print(\"NameError occured\")\n",
    "    except ZeroDivisionError:\n",
    "        print(\"ZeroDivisionError occured\")\n",
    "\n",
    "func(12)\n",
    "func(3)\n",
    "func(4)"
   ]
  },
  {
   "cell_type": "code",
   "execution_count": 9,
   "id": "12b83af0-16d1-41fb-8cfa-e94ee75d43d9",
   "metadata": {},
   "outputs": [
    {
     "name": "stdout",
     "output_type": "stream",
     "text": [
      "5.0\n",
      "a-b result in 0\n"
     ]
    }
   ],
   "source": [
    "def fun(a,b):\n",
    "    try:\n",
    "        c=(a+b)/(a-b)\n",
    "\n",
    "    except ZeroDivisionError:\n",
    "        print(\"a-b result in 0\")\n",
    "\n",
    "    else:\n",
    "        print(c)\n",
    "\n",
    "fun(3.0,2.0)\n",
    "fun(5.0,5.0)"
   ]
  },
  {
   "cell_type": "code",
   "execution_count": 13,
   "id": "3b9078be-2d2c-4db4-8988-240e520c21c8",
   "metadata": {},
   "outputs": [
    {
     "name": "stdout",
     "output_type": "stream",
     "text": [
      "Can't be divided by zero\n",
      "This is always executed\n"
     ]
    }
   ],
   "source": [
    "try:\n",
    "    k=5//0\n",
    "    print(k)\n",
    "except ZeroDivisionError:\n",
    "    print(\"Can't be divided by zero\")\n",
    "\n",
    "finally:\n",
    "    print(\"This is always executed\")"
   ]
  },
  {
   "cell_type": "code",
   "execution_count": 2,
   "id": "6eef9da5-7754-42ae-8417-751132dd5c2c",
   "metadata": {},
   "outputs": [
    {
     "name": "stdout",
     "output_type": "stream",
     "text": [
      "An Exception\n"
     ]
    },
    {
     "ename": "NameError",
     "evalue": "Hi there",
     "output_type": "error",
     "traceback": [
      "\u001b[1;31m---------------------------------------------------------------------------\u001b[0m",
      "\u001b[1;31mNameError\u001b[0m                                 Traceback (most recent call last)",
      "Cell \u001b[1;32mIn[2], line 2\u001b[0m\n\u001b[0;32m      1\u001b[0m \u001b[38;5;28;01mtry\u001b[39;00m:\n\u001b[1;32m----> 2\u001b[0m     \u001b[38;5;28;01mraise\u001b[39;00m \u001b[38;5;167;01mNameError\u001b[39;00m(\u001b[38;5;124m\"\u001b[39m\u001b[38;5;124mHi there\u001b[39m\u001b[38;5;124m\"\u001b[39m)\n\u001b[0;32m      4\u001b[0m \u001b[38;5;28;01mexcept\u001b[39;00m \u001b[38;5;167;01mNameError\u001b[39;00m:\n\u001b[0;32m      5\u001b[0m     \u001b[38;5;28mprint\u001b[39m(\u001b[38;5;124m\"\u001b[39m\u001b[38;5;124mAn Exception\u001b[39m\u001b[38;5;124m\"\u001b[39m)\n",
      "\u001b[1;31mNameError\u001b[0m: Hi there"
     ]
    }
   ],
   "source": [
    "try:\n",
    "    raise NameError(\"Hi there\")\n",
    "\n",
    "except NameError:\n",
    "    print(\"An Exception\")\n",
    "    raise"
   ]
  },
  {
   "cell_type": "code",
   "execution_count": 18,
   "id": "d4cac805-49be-40c6-968f-64702b6041bb",
   "metadata": {},
   "outputs": [
    {
     "name": "stdout",
     "output_type": "stream",
     "text": [
      "A new exception occured: 6\n"
     ]
    }
   ],
   "source": [
    "class myError(Exception):\n",
    "    def __init__(self,value):\n",
    "        self.value=value\n",
    "\n",
    "    def __str__(self):\n",
    "        return(self.value)\n",
    "\n",
    "try:\n",
    "    raise(myError(3*2))\n",
    "\n",
    "except myError as error:\n",
    "    print(\"A new exception occured:\",error.value)"
   ]
  },
  {
   "cell_type": "code",
   "execution_count": 69,
   "id": "c3ca03c6-037d-40b1-aabd-6a0c4a272724",
   "metadata": {},
   "outputs": [
    {
     "name": "stdout",
     "output_type": "stream",
     "text": [
      "Yes! we have a match\n"
     ]
    }
   ],
   "source": [
    "import re\n",
    "txt=\"The rain in spain\"\n",
    "x=re.search(\"^The.*spain$\",txt)\n",
    "if x:\n",
    "    print(\"Yes! we have a match\")\n",
    "\n",
    "else:\n",
    "    print(\"No match\")"
   ]
  },
  {
   "cell_type": "code",
   "execution_count": 71,
   "id": "925729dc-6995-44d7-9223-b0581e46b5b8",
   "metadata": {},
   "outputs": [
    {
     "name": "stdout",
     "output_type": "stream",
     "text": [
      "['ai', 'ai']\n"
     ]
    }
   ],
   "source": [
    "import re\n",
    "txt=\"The rain in spain\"\n",
    "x=re.findall(\"ai\",txt)\n",
    "print(x)"
   ]
  },
  {
   "cell_type": "code",
   "execution_count": 92,
   "id": "172edc47-2c4f-4f9b-aa65-6f4113fa3167",
   "metadata": {},
   "outputs": [
    {
     "name": "stdout",
     "output_type": "stream",
     "text": [
      "The first white-space  character is located  in position: 3\n"
     ]
    },
    {
     "name": "stderr",
     "output_type": "stream",
     "text": [
      "<>:3: SyntaxWarning: invalid escape sequence '\\s'\n",
      "<>:3: SyntaxWarning: invalid escape sequence '\\s'\n",
      "C:\\Users\\USER\\AppData\\Local\\Temp\\ipykernel_2040\\2304239382.py:3: SyntaxWarning: invalid escape sequence '\\s'\n",
      "  x=re.search(\"\\s\",txt)\n"
     ]
    }
   ],
   "source": [
    "import re\n",
    "txt=\"The rain in spain\"\n",
    "x=re.search(\"\\s\",txt)\n",
    "print(\"The first white-space  character is located  in position:\",x.start())"
   ]
  },
  {
   "cell_type": "code",
   "execution_count": 87,
   "id": "7c5f651e-2d59-407c-836d-cecf43cabf60",
   "metadata": {},
   "outputs": [
    {
     "name": "stdout",
     "output_type": "stream",
     "text": [
      "['The', 'rain', 'in', 'spain']\n"
     ]
    },
    {
     "name": "stderr",
     "output_type": "stream",
     "text": [
      "<>:3: SyntaxWarning: invalid escape sequence '\\s'\n",
      "<>:3: SyntaxWarning: invalid escape sequence '\\s'\n",
      "C:\\Users\\USER\\AppData\\Local\\Temp\\ipykernel_2040\\4027913792.py:3: SyntaxWarning: invalid escape sequence '\\s'\n",
      "  x=re.split(\"\\s\",txt)\n"
     ]
    }
   ],
   "source": [
    "import re\n",
    "txt=\"The rain in spain\"\n",
    "x=re.split(\"\\s\",txt)\n",
    "print(x)"
   ]
  },
  {
   "cell_type": "code",
   "execution_count": 88,
   "id": "0a6ad864-bb34-4d21-97d1-fb677a96206d",
   "metadata": {},
   "outputs": [
    {
     "name": "stdout",
     "output_type": "stream",
     "text": [
      "['The', 'rain in spain']\n"
     ]
    },
    {
     "name": "stderr",
     "output_type": "stream",
     "text": [
      "<>:3: SyntaxWarning: invalid escape sequence '\\s'\n",
      "<>:3: SyntaxWarning: invalid escape sequence '\\s'\n",
      "C:\\Users\\USER\\AppData\\Local\\Temp\\ipykernel_2040\\70615690.py:3: SyntaxWarning: invalid escape sequence '\\s'\n",
      "  x=re.split(\"\\s\",txt,1)\n",
      "C:\\Users\\USER\\AppData\\Local\\Temp\\ipykernel_2040\\70615690.py:3: DeprecationWarning: 'maxsplit' is passed as positional argument\n",
      "  x=re.split(\"\\s\",txt,1)\n"
     ]
    }
   ],
   "source": [
    "import re\n",
    "txt=\"The rain in spain\"\n",
    "x=re.split(\"\\s\",txt,1)\n",
    "print(x)"
   ]
  },
  {
   "cell_type": "code",
   "execution_count": 90,
   "id": "9440aaa4-992d-4883-a096-87adcbd2ee5d",
   "metadata": {},
   "outputs": [
    {
     "name": "stdout",
     "output_type": "stream",
     "text": [
      "The9rain9in9spain\n"
     ]
    },
    {
     "name": "stderr",
     "output_type": "stream",
     "text": [
      "<>:3: SyntaxWarning: invalid escape sequence '\\s'\n",
      "<>:3: SyntaxWarning: invalid escape sequence '\\s'\n",
      "C:\\Users\\USER\\AppData\\Local\\Temp\\ipykernel_2040\\38519270.py:3: SyntaxWarning: invalid escape sequence '\\s'\n",
      "  x=re.sub(\"\\s\",\"9\",txt)\n"
     ]
    }
   ],
   "source": [
    "import re\n",
    "txt=\"The rain in spain\"\n",
    "x=re.sub(\"\\s\",\"9\",txt)\n",
    "print(x)"
   ]
  },
  {
   "cell_type": "code",
   "execution_count": 91,
   "id": "86695389-99b3-4739-b203-3b96eab8cf15",
   "metadata": {},
   "outputs": [
    {
     "name": "stdout",
     "output_type": "stream",
     "text": [
      "The9rain9in spain\n"
     ]
    },
    {
     "name": "stderr",
     "output_type": "stream",
     "text": [
      "<>:3: SyntaxWarning: invalid escape sequence '\\s'\n",
      "<>:3: SyntaxWarning: invalid escape sequence '\\s'\n",
      "C:\\Users\\USER\\AppData\\Local\\Temp\\ipykernel_2040\\4113306099.py:3: SyntaxWarning: invalid escape sequence '\\s'\n",
      "  x=re.sub(\"\\s\",\"9\",txt,2)\n",
      "C:\\Users\\USER\\AppData\\Local\\Temp\\ipykernel_2040\\4113306099.py:3: DeprecationWarning: 'count' is passed as positional argument\n",
      "  x=re.sub(\"\\s\",\"9\",txt,2)\n"
     ]
    }
   ],
   "source": [
    "import re\n",
    "txt=\"The rain in spain\"\n",
    "x=re.sub(\"\\s\",\"9\",txt,2)\n",
    "print(x)"
   ]
  },
  {
   "cell_type": "code",
   "execution_count": 93,
   "id": "35168db3-178d-4a34-bcd1-5ca382d7d9bb",
   "metadata": {},
   "outputs": [
    {
     "name": "stdout",
     "output_type": "stream",
     "text": [
      "<re.Match object; span=(5, 7), match='ai'>\n"
     ]
    }
   ],
   "source": [
    "import re\n",
    "txt=\"The rain in spain\"\n",
    "x=re.search(\"ai\",txt)\n",
    "print(x)"
   ]
  },
  {
   "cell_type": "code",
   "execution_count": 96,
   "id": "eb8f0e0c-f0a3-4d76-8524-d2af5b53b8e3",
   "metadata": {},
   "outputs": [
    {
     "name": "stdout",
     "output_type": "stream",
     "text": [
      "(12, 17)\n"
     ]
    }
   ],
   "source": [
    "import re\n",
    "txt=\"The rain in Spain\"\n",
    "x=re.search(r\"\\bS\\w+\",txt)\n",
    "print(x.span())"
   ]
  },
  {
   "cell_type": "code",
   "execution_count": 97,
   "id": "2d070ada-726e-4ebc-9b16-bb7f966e429c",
   "metadata": {},
   "outputs": [
    {
     "name": "stdout",
     "output_type": "stream",
     "text": [
      "Spain\n"
     ]
    }
   ],
   "source": [
    "import re\n",
    "txt=\"The rain in Spain\"\n",
    "x=re.search(r\"\\bS\\w+\",txt)\n",
    "print(x.group())"
   ]
  },
  {
   "cell_type": "code",
   "execution_count": 99,
   "id": "0e013283-e203-4630-b5ef-de66be8b548f",
   "metadata": {},
   "outputs": [
    {
     "name": "stdout",
     "output_type": "stream",
     "text": [
      "The rain in Spain\n"
     ]
    }
   ],
   "source": [
    "import re\n",
    "txt=\"The rain in Spain\"\n",
    "x=re.search(r\"\\bS\\w+\",txt)\n",
    "print(x.string)"
   ]
  },
  {
   "cell_type": "code",
   "execution_count": null,
   "id": "1b174f59-a246-4aa5-b455-0d4ac240f4f6",
   "metadata": {},
   "outputs": [],
   "source": []
  }
 ],
 "metadata": {
  "kernelspec": {
   "display_name": "Python 3 (ipykernel)",
   "language": "python",
   "name": "python3"
  },
  "language_info": {
   "codemirror_mode": {
    "name": "ipython",
    "version": 3
   },
   "file_extension": ".py",
   "mimetype": "text/x-python",
   "name": "python",
   "nbconvert_exporter": "python",
   "pygments_lexer": "ipython3",
   "version": "3.13.0"
  }
 },
 "nbformat": 4,
 "nbformat_minor": 5
}
